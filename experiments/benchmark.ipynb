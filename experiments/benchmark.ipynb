{
 "cells": [
  {
   "cell_type": "code",
   "execution_count": 1,
   "metadata": {},
   "outputs": [],
   "source": [
    "from pathlib import Path\n",
    "\n",
    "THIS = Path(\".\")\n",
    "BASE = THIS / \"..\"\n",
    "BASE = BASE.absolute().resolve()\n",
    "\n",
    "MODEL = BASE / \"model\"\n",
    "EXPORTS = BASE / \"exports\"\n",
    "\n",
    "MODEL_NAME=\"Llama-2-7b-hf\"\n",
    "\n",
    "MODEL_PATH = MODEL / MODEL_NAME\n",
    "EXPORTS = EXPORTS / MODEL_NAME\n"
   ]
  },
  {
   "cell_type": "markdown",
   "metadata": {},
   "source": [
    "## Quant"
   ]
  },
  {
   "cell_type": "markdown",
   "metadata": {},
   "source": [
    "## Omniquant"
   ]
  },
  {
   "cell_type": "code",
   "execution_count": 2,
   "metadata": {},
   "outputs": [],
   "source": [
    "METHOD = \"quant/omniquant\"\n",
    "METHOD_EXPORTS = EXPORTS / METHOD\n"
   ]
  },
  {
   "cell_type": "code",
   "execution_count": 3,
   "metadata": {},
   "outputs": [
    {
     "name": "stdout",
     "output_type": "stream",
     "text": [
      "BASE: /home/shwu/LLM-Efficiency-Survey\n",
      "MODEL: /home/shwu/LLM-Efficiency-Survey/model\n",
      "MODEL_PATH: /home/shwu/LLM-Efficiency-Survey/model/Llama-2-7b-hf\n",
      "METHOD_EXPORTS: /home/shwu/LLM-Efficiency-Survey/exports/Llama-2-7b-hf/quant/omniquant\n"
     ]
    }
   ],
   "source": [
    "# print paths\n",
    "print(\"BASE:\", BASE)\n",
    "print(\"MODEL:\", MODEL)\n",
    "print(\"MODEL_PATH:\", MODEL_PATH)\n",
    "print(\"METHOD_EXPORTS:\", METHOD_EXPORTS)"
   ]
  },
  {
   "cell_type": "code",
   "execution_count": null,
   "metadata": {},
   "outputs": [],
   "source": [
    "# OmniQuant quant model sizes\n",
    "omniquant_models = [x for x in METHOD_EXPORTS.iterdir() if x.is_dir()]\n",
    "omniquant_models.append(MODEL_PATH)\n",
    "\n",
    "# AWQ_EXPORTS=EXPORTS / \"quant/awq\"\n",
    "# awq_models = [x for x in AWQ_EXPORTS.iterdir() if x.is_dir()]\n",
    "# omniquant_models.extend(awq_models)\n",
    "\n",
    "for model in omniquant_models:\n",
    "\n",
    "    # model_size := size of output.safetensors or <model>.p\n",
    "    model_size = sum([x.stat().st_size for x in model.glob(\"*.safetensors\")])\n",
    "    print(f\"{model.name}: {model_size / (1024 ** 3):.2f} GiB\")"
   ]
  },
  {
   "cell_type": "code",
   "execution_count": null,
   "metadata": {},
   "outputs": [],
   "source": [
    "# max mem usage\n",
    "import pandas as pd\n",
    "import matplotlib.pyplot as plt\n",
    "all_csvs = list(METHOD_EXPORTS.glob(\"*.csv\"))\n",
    "\n",
    "# csv header\n",
    "# utilization.gpu [%], utilization.memory [%], memory.used [MiB], memory.free [MiB], memory.total [MiB]\n",
    "utlization_gpu_key = \"utilization.gpu [%]\"\n",
    "utilization_memory_key = \" \" + \"utilization.memory [%]\"\n",
    "memory_used_key = \" \" + \"memory.used [MiB]\"\n",
    "memory_free_key = \" \" + \"memory.free [MiB]\"\n",
    "memory_total_key = \" \" + \"memory.total [MiB]\"\n",
    "\n",
    "for csv in all_csvs:\n",
    "    if not \"bench\" in csv.name:\n",
    "        continue\n",
    "    df = pd.read_csv(csv)\n",
    "\n",
    "    # plot csv of utilization.memory [%] and utilization.gpu [%] both on y-axis\n",
    "    fig, ax1 = plt.subplots(figsize=(20, 4))\n",
    "    plt.title(csv.name.split('usage')[-1][1:-4])\n",
    "    ax1.set_ylabel(\"Stats [%]\")\n",
    "    ax1.set_xlabel(\"Time [s]\")\n",
    "    ax1.plot(df.index * 0.1, df[utlization_gpu_key], label=f\"utilization.compute [max = {df[utlization_gpu_key].max()} %]\")\n",
    "    ax1.plot(df.index * 0.1, df[utilization_memory_key], label=f\"utilization.memory [max = {df[utilization_memory_key].max()} %]\")\n",
    "    ax1.plot(df.index * 0.1, (df[memory_used_key] / df[memory_total_key]) * 100, label=f\"memory [max = {df[memory_used_key].max() / 1024:.2f} GiB]\")\n",
    "    ax1.legend(loc=\"upper left\")"
   ]
  },
  {
   "cell_type": "code",
   "execution_count": 44,
   "metadata": {},
   "outputs": [
    {
     "name": "stdout",
     "output_type": "stream",
     "text": [
      "w3a16g128: 6.656012771453326\n",
      "w4a16g128: 5.977879409190858\n"
     ]
    }
   ],
   "source": [
    "# ppl logs\n",
    "# all files with suffix .txt in method_exports/ppl/<any_dir>\n",
    "ppl_logs = list(METHOD_EXPORTS.glob(\"ppl/**/*.txt\"))\n",
    "data = {}\n",
    "for log in ppl_logs:\n",
    "    # if not \"bench\" in log.name:\n",
    "    #     continue\n",
    "    method = f\"{log}\".split(\"/\")[-2]\n",
    "    print(method, end=\": \")\n",
    "    with open(log) as f:\n",
    "        lines = f.readlines()\n",
    "    ppl = float(lines[-1].strip().split()[-1])\n",
    "    print(ppl)\n",
    "    data[method] = ppl"
   ]
  },
  {
   "cell_type": "code",
   "execution_count": 45,
   "metadata": {},
   "outputs": [
    {
     "data": {
      "text/html": [
       "<div>\n",
       "<style scoped>\n",
       "    .dataframe tbody tr th:only-of-type {\n",
       "        vertical-align: middle;\n",
       "    }\n",
       "\n",
       "    .dataframe tbody tr th {\n",
       "        vertical-align: top;\n",
       "    }\n",
       "\n",
       "    .dataframe thead th {\n",
       "        text-align: right;\n",
       "    }\n",
       "</style>\n",
       "<table border=\"1\" class=\"dataframe\">\n",
       "  <thead>\n",
       "    <tr style=\"text-align: right;\">\n",
       "      <th></th>\n",
       "      <th>method</th>\n",
       "      <th>ppl</th>\n",
       "      <th>+ppl</th>\n",
       "    </tr>\n",
       "  </thead>\n",
       "  <tbody>\n",
       "    <tr>\n",
       "      <th>0</th>\n",
       "      <td>baseline FP16</td>\n",
       "      <td>5.850000</td>\n",
       "      <td>0.000000</td>\n",
       "    </tr>\n",
       "    <tr>\n",
       "      <th>1</th>\n",
       "      <td>w3a16g128</td>\n",
       "      <td>6.656013</td>\n",
       "      <td>0.806013</td>\n",
       "    </tr>\n",
       "    <tr>\n",
       "      <th>2</th>\n",
       "      <td>w4a16g128</td>\n",
       "      <td>5.977879</td>\n",
       "      <td>0.127879</td>\n",
       "    </tr>\n",
       "  </tbody>\n",
       "</table>\n",
       "</div>"
      ],
      "text/plain": [
       "          method       ppl      +ppl\n",
       "0  baseline FP16  5.850000  0.000000\n",
       "1      w3a16g128  6.656013  0.806013\n",
       "2      w4a16g128  5.977879  0.127879"
      ]
     },
     "execution_count": 45,
     "metadata": {},
     "output_type": "execute_result"
    }
   ],
   "source": [
    "import numpy as np\n",
    "import pandas as pd\n",
    "# update data with baseline\n",
    "data.update({\"baseline FP16\": 5.85})\n",
    "df = pd.DataFrame([(k,v) for (k,v) in sorted(data.items())], columns=['method', 'ppl'])\n",
    "df[\"+ppl\"] = df[\"ppl\"] - min(df[\"ppl\"])\n",
    "df\n"
   ]
  },
  {
   "cell_type": "code",
   "execution_count": null,
   "metadata": {},
   "outputs": [],
   "source": []
  }
 ],
 "metadata": {
  "kernelspec": {
   "display_name": "venv",
   "language": "python",
   "name": "python3"
  },
  "language_info": {
   "codemirror_mode": {
    "name": "ipython",
    "version": 3
   },
   "file_extension": ".py",
   "mimetype": "text/x-python",
   "name": "python",
   "nbconvert_exporter": "python",
   "pygments_lexer": "ipython3",
   "version": "3.10.11"
  }
 },
 "nbformat": 4,
 "nbformat_minor": 2
}
